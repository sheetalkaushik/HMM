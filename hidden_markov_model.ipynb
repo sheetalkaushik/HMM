{
  "nbformat": 4,
  "nbformat_minor": 0,
  "metadata": {
    "colab": {
      "name": "hidden_markov_model.ipynb",
      "version": "0.3.2",
      "provenance": [],
      "collapsed_sections": [],
      "include_colab_link": true
    },
    "kernelspec": {
      "name": "python3",
      "display_name": "Python 3"
    }
  },
  "cells": [
    {
      "cell_type": "markdown",
      "metadata": {
        "id": "view-in-github",
        "colab_type": "text"
      },
      "source": [
        "<a href=\"https://colab.research.google.com/github/sheetalkaushik/HMM/blob/master/hidden_markov_model.ipynb\" target=\"_parent\"><img src=\"https://colab.research.google.com/assets/colab-badge.svg\" alt=\"Open In Colab\"/></a>"
      ]
    },
    {
      "metadata": {
        "id": "VGCz99WtvTWm",
        "colab_type": "code",
        "colab": {}
      },
      "cell_type": "code",
      "source": [
        "import random, re"
      ],
      "execution_count": 0,
      "outputs": []
    },
    {
      "metadata": {
        "id": "xQXA86UbwFce",
        "colab_type": "code",
        "colab": {}
      },
      "cell_type": "code",
      "source": [
        "# freqDict is a dict of dict containing frequencies\n",
        "def addToDict(fileName, freqDict):\n",
        "  f = open(fileName, 'r')\n",
        "  words = re.sub(\"\\n\", \" \\n\", f.read()).lower().split(' ')\n",
        "  print(words)\n",
        "  # count frequencies curr -> succ\n",
        "  for curr, succ in zip(words[1:], words[:-1]):\n",
        "    # check if curr is already in the dict of dicts\n",
        "    if curr not in freqDict:\n",
        "      freqDict[curr] = {succ: 1}\n",
        "    else:\n",
        "      # check if the dict associated with curr already has succ\n",
        "      if succ not in freqDict[curr]:\n",
        "        freqDict[curr][succ] = 1;\n",
        "      else:\n",
        "        freqDict[curr][succ] += 1;\n",
        "        \n",
        "  # compute percentages\n",
        "  probDict = {}\n",
        "  for curr, currDict in freqDict.items():\n",
        "    probDict[curr] = {}\n",
        "    currTotal = sum(currDict.values())\n",
        "    for succ in currDict:\n",
        "      probDict[curr][succ]= currDict[succ] / currTotal\n",
        "  return probDict\n",
        "  "
      ],
      "execution_count": 0,
      "outputs": []
    },
    {
      "metadata": {
        "id": "bJy4hVc8wabD",
        "colab_type": "code",
        "colab": {}
      },
      "cell_type": "code",
      "source": [
        "def markov_next(curr, probDict):\n",
        "  if curr not in probDict:\n",
        "    return random.choice(list(probDict.keys()))\n",
        "  else:\n",
        "    succProbs = probDict[curr]\n",
        "    randProb = random.random()\n",
        "    global currProb\n",
        "    currProb = 0.0\n",
        "    for succ in succProbs:\n",
        "      currProb += succProbs[succ]\n",
        "      if randProb <= currProb:\n",
        "        return succ\n",
        "    return random.choice(list(probDict.keys()))\n",
        "  "
      ],
      "execution_count": 0,
      "outputs": []
    },
    {
      "metadata": {
        "id": "OzsfvHZ1wKD3",
        "colab_type": "code",
        "colab": {}
      },
      "cell_type": "code",
      "source": [
        "def makeSong(curr, probDict, T = 50):\n",
        "  song = [curr]\n",
        "  for t in range(T):\n",
        "    song.append(markov_next(song[-1], probDict))\n",
        "  return \" \".join(song)\n",
        "  "
      ],
      "execution_count": 0,
      "outputs": []
    },
    {
      "metadata": {
        "id": "ngBv60ytypx1",
        "colab_type": "code",
        "colab": {}
      },
      "cell_type": "code",
      "source": [
        "if __name__ == '__main__':\n",
        "  songFreqDict = {}\n",
        "  songProbDict = addToDict('lyrics.txt', songFreqDict)\n",
        "  \n",
        "  startWord = input(\"Pehla shabd deve!!\\n ->\")\n",
        "  print(\"Yay! Yeh raha aapka brand new song:\")\n",
        "  print(makeSong(startWord, songProbDict))"
      ],
      "execution_count": 0,
      "outputs": []
    }
  ]
}